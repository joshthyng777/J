{
 "cells": [
  {
   "attachments": {},
   "cell_type": "markdown",
   "metadata": {},
   "source": [
    "# Reading in the dataset\n",
    "\n",
    "I do not take any credit for this dataset, this was found on kaggle!\n",
    "\n",
    "The original dataset can be found here:\n",
    "\n",
    "[Kaggle: Earthquake in Japan](https://www.kaggle.com/datasets/stpeteishii/earthquake-in-japan)"
   ]
  },
  {
   "cell_type": "code",
   "execution_count": 1,
   "metadata": {},
   "outputs": [],
   "source": [
    "import pandas as pd\n",
    "import numpy as np\n",
    "import matplotlib.pyplot as plt\n",
    "import seaborn as sns\n",
    "from sklearn.preprocessing import StandardScaler"
   ]
  },
  {
   "cell_type": "code",
   "execution_count": 2,
   "metadata": {},
   "outputs": [],
   "source": [
    "df = pd.read_csv('japan_2000_2023_query.csv')"
   ]
  },
  {
   "attachments": {},
   "cell_type": "markdown",
   "metadata": {},
   "source": [
    "## Inspecting the dataset\n",
    "Viewing the first 5 rows of our dataset"
   ]
  },
  {
   "cell_type": "code",
   "execution_count": 3,
   "metadata": {},
   "outputs": [
    {
     "data": {
      "text/html": [
       "<div>\n",
       "<style scoped>\n",
       "    .dataframe tbody tr th:only-of-type {\n",
       "        vertical-align: middle;\n",
       "    }\n",
       "\n",
       "    .dataframe tbody tr th {\n",
       "        vertical-align: top;\n",
       "    }\n",
       "\n",
       "    .dataframe thead th {\n",
       "        text-align: right;\n",
       "    }\n",
       "</style>\n",
       "<table border=\"1\" class=\"dataframe\">\n",
       "  <thead>\n",
       "    <tr style=\"text-align: right;\">\n",
       "      <th></th>\n",
       "      <th>time</th>\n",
       "      <th>latitude</th>\n",
       "      <th>longitude</th>\n",
       "      <th>depth</th>\n",
       "      <th>mag</th>\n",
       "      <th>magType</th>\n",
       "      <th>nst</th>\n",
       "      <th>gap</th>\n",
       "      <th>dmin</th>\n",
       "      <th>rms</th>\n",
       "      <th>...</th>\n",
       "      <th>updated</th>\n",
       "      <th>place</th>\n",
       "      <th>type</th>\n",
       "      <th>horizontalError</th>\n",
       "      <th>depthError</th>\n",
       "      <th>magError</th>\n",
       "      <th>magNst</th>\n",
       "      <th>status</th>\n",
       "      <th>locationSource</th>\n",
       "      <th>magSource</th>\n",
       "    </tr>\n",
       "  </thead>\n",
       "  <tbody>\n",
       "    <tr>\n",
       "      <th>0</th>\n",
       "      <td>2023-03-02T07:19:01.487Z</td>\n",
       "      <td>32.5313</td>\n",
       "      <td>135.7405</td>\n",
       "      <td>16.123</td>\n",
       "      <td>4.5</td>\n",
       "      <td>mb</td>\n",
       "      <td>30.0</td>\n",
       "      <td>95.0</td>\n",
       "      <td>1.970</td>\n",
       "      <td>0.44</td>\n",
       "      <td>...</td>\n",
       "      <td>2023-03-02T08:13:16.040Z</td>\n",
       "      <td>135 km S of Shing?, Japan</td>\n",
       "      <td>earthquake</td>\n",
       "      <td>5.07</td>\n",
       "      <td>4.815</td>\n",
       "      <td>0.131</td>\n",
       "      <td>18.0</td>\n",
       "      <td>reviewed</td>\n",
       "      <td>us</td>\n",
       "      <td>us</td>\n",
       "    </tr>\n",
       "    <tr>\n",
       "      <th>1</th>\n",
       "      <td>2023-03-02T06:47:39.954Z</td>\n",
       "      <td>33.3315</td>\n",
       "      <td>139.4942</td>\n",
       "      <td>9.945</td>\n",
       "      <td>5.1</td>\n",
       "      <td>mww</td>\n",
       "      <td>65.0</td>\n",
       "      <td>77.0</td>\n",
       "      <td>0.344</td>\n",
       "      <td>0.49</td>\n",
       "      <td>...</td>\n",
       "      <td>2023-03-02T07:07:30.040Z</td>\n",
       "      <td>157 km SSE of Shimoda, Japan</td>\n",
       "      <td>earthquake</td>\n",
       "      <td>5.01</td>\n",
       "      <td>4.540</td>\n",
       "      <td>0.073</td>\n",
       "      <td>18.0</td>\n",
       "      <td>reviewed</td>\n",
       "      <td>us</td>\n",
       "      <td>us</td>\n",
       "    </tr>\n",
       "    <tr>\n",
       "      <th>2</th>\n",
       "      <td>2023-03-02T06:14:51.230Z</td>\n",
       "      <td>43.4055</td>\n",
       "      <td>147.2168</td>\n",
       "      <td>40.090</td>\n",
       "      <td>5.2</td>\n",
       "      <td>mb</td>\n",
       "      <td>91.0</td>\n",
       "      <td>116.0</td>\n",
       "      <td>3.299</td>\n",
       "      <td>0.81</td>\n",
       "      <td>...</td>\n",
       "      <td>2023-03-02T06:34:17.040Z</td>\n",
       "      <td>59 km SE of Shikotan, Russia</td>\n",
       "      <td>earthquake</td>\n",
       "      <td>8.74</td>\n",
       "      <td>6.763</td>\n",
       "      <td>0.024</td>\n",
       "      <td>558.0</td>\n",
       "      <td>reviewed</td>\n",
       "      <td>us</td>\n",
       "      <td>us</td>\n",
       "    </tr>\n",
       "    <tr>\n",
       "      <th>3</th>\n",
       "      <td>2023-02-28T15:48:02.842Z</td>\n",
       "      <td>35.6762</td>\n",
       "      <td>140.7823</td>\n",
       "      <td>43.894</td>\n",
       "      <td>4.5</td>\n",
       "      <td>mwr</td>\n",
       "      <td>27.0</td>\n",
       "      <td>139.0</td>\n",
       "      <td>2.261</td>\n",
       "      <td>0.65</td>\n",
       "      <td>...</td>\n",
       "      <td>2023-02-28T16:49:02.040Z</td>\n",
       "      <td>7 km SW of Hasaki, Japan</td>\n",
       "      <td>earthquake</td>\n",
       "      <td>6.74</td>\n",
       "      <td>5.915</td>\n",
       "      <td>0.089</td>\n",
       "      <td>12.0</td>\n",
       "      <td>reviewed</td>\n",
       "      <td>us</td>\n",
       "      <td>us</td>\n",
       "    </tr>\n",
       "    <tr>\n",
       "      <th>4</th>\n",
       "      <td>2023-02-28T11:12:09.077Z</td>\n",
       "      <td>32.9764</td>\n",
       "      <td>141.6939</td>\n",
       "      <td>10.000</td>\n",
       "      <td>5.2</td>\n",
       "      <td>mww</td>\n",
       "      <td>136.0</td>\n",
       "      <td>93.0</td>\n",
       "      <td>1.585</td>\n",
       "      <td>0.79</td>\n",
       "      <td>...</td>\n",
       "      <td>2023-02-28T11:32:11.040Z</td>\n",
       "      <td>272 km SSE of Katsuura, Japan</td>\n",
       "      <td>earthquake</td>\n",
       "      <td>6.71</td>\n",
       "      <td>1.847</td>\n",
       "      <td>0.083</td>\n",
       "      <td>14.0</td>\n",
       "      <td>reviewed</td>\n",
       "      <td>us</td>\n",
       "      <td>us</td>\n",
       "    </tr>\n",
       "  </tbody>\n",
       "</table>\n",
       "<p>5 rows × 22 columns</p>\n",
       "</div>"
      ],
      "text/plain": [
       "                       time  latitude  longitude   depth  mag magType    nst  \\\n",
       "0  2023-03-02T07:19:01.487Z   32.5313   135.7405  16.123  4.5      mb   30.0   \n",
       "1  2023-03-02T06:47:39.954Z   33.3315   139.4942   9.945  5.1     mww   65.0   \n",
       "2  2023-03-02T06:14:51.230Z   43.4055   147.2168  40.090  5.2      mb   91.0   \n",
       "3  2023-02-28T15:48:02.842Z   35.6762   140.7823  43.894  4.5     mwr   27.0   \n",
       "4  2023-02-28T11:12:09.077Z   32.9764   141.6939  10.000  5.2     mww  136.0   \n",
       "\n",
       "     gap   dmin   rms  ...                   updated  \\\n",
       "0   95.0  1.970  0.44  ...  2023-03-02T08:13:16.040Z   \n",
       "1   77.0  0.344  0.49  ...  2023-03-02T07:07:30.040Z   \n",
       "2  116.0  3.299  0.81  ...  2023-03-02T06:34:17.040Z   \n",
       "3  139.0  2.261  0.65  ...  2023-02-28T16:49:02.040Z   \n",
       "4   93.0  1.585  0.79  ...  2023-02-28T11:32:11.040Z   \n",
       "\n",
       "                           place        type horizontalError depthError  \\\n",
       "0      135 km S of Shing?, Japan  earthquake            5.07      4.815   \n",
       "1   157 km SSE of Shimoda, Japan  earthquake            5.01      4.540   \n",
       "2   59 km SE of Shikotan, Russia  earthquake            8.74      6.763   \n",
       "3       7 km SW of Hasaki, Japan  earthquake            6.74      5.915   \n",
       "4  272 km SSE of Katsuura, Japan  earthquake            6.71      1.847   \n",
       "\n",
       "   magError  magNst    status  locationSource magSource  \n",
       "0     0.131    18.0  reviewed              us        us  \n",
       "1     0.073    18.0  reviewed              us        us  \n",
       "2     0.024   558.0  reviewed              us        us  \n",
       "3     0.089    12.0  reviewed              us        us  \n",
       "4     0.083    14.0  reviewed              us        us  \n",
       "\n",
       "[5 rows x 22 columns]"
      ]
     },
     "execution_count": 3,
     "metadata": {},
     "output_type": "execute_result"
    }
   ],
   "source": [
    "df.head()"
   ]
  },
  {
   "cell_type": "code",
   "execution_count": 4,
   "metadata": {},
   "outputs": [],
   "source": [
    "removed_cols = ['magSource', 'locationSource', 'magNst']\n",
    "\n",
    "df = df.drop(removed_cols, axis=1)"
   ]
  },
  {
   "cell_type": "code",
   "execution_count": 5,
   "metadata": {},
   "outputs": [
    {
     "data": {
      "text/plain": [
       "Index(['time', 'latitude', 'longitude', 'depth', 'mag', 'magType', 'nst',\n",
       "       'gap', 'dmin', 'rms', 'net', 'id', 'updated', 'place', 'type',\n",
       "       'horizontalError', 'depthError', 'magError', 'status'],\n",
       "      dtype='object')"
      ]
     },
     "execution_count": 5,
     "metadata": {},
     "output_type": "execute_result"
    }
   ],
   "source": [
    "df.columns"
   ]
  },
  {
   "cell_type": "code",
   "execution_count": 6,
   "metadata": {},
   "outputs": [
    {
     "name": "stdout",
     "output_type": "stream",
     "text": [
      "<class 'pandas.core.frame.DataFrame'>\n",
      "RangeIndex: 11132 entries, 0 to 11131\n",
      "Data columns (total 19 columns):\n",
      " #   Column           Non-Null Count  Dtype  \n",
      "---  ------           --------------  -----  \n",
      " 0   time             11132 non-null  object \n",
      " 1   latitude         11132 non-null  float64\n",
      " 2   longitude        11132 non-null  float64\n",
      " 3   depth            11132 non-null  float64\n",
      " 4   mag              11132 non-null  float64\n",
      " 5   magType          11132 non-null  object \n",
      " 6   nst              7522 non-null   float64\n",
      " 7   gap              10110 non-null  float64\n",
      " 8   dmin             3833 non-null   float64\n",
      " 9   rms              11054 non-null  float64\n",
      " 10  net              11132 non-null  object \n",
      " 11  id               11132 non-null  object \n",
      " 12  updated          11132 non-null  object \n",
      " 13  place            11103 non-null  object \n",
      " 14  type             11132 non-null  object \n",
      " 15  horizontalError  3305 non-null   float64\n",
      " 16  depthError       8001 non-null   float64\n",
      " 17  magError         3695 non-null   float64\n",
      " 18  status           11132 non-null  object \n",
      "dtypes: float64(11), object(8)\n",
      "memory usage: 1.6+ MB\n"
     ]
    }
   ],
   "source": [
    "df.info()"
   ]
  },
  {
   "attachments": {},
   "cell_type": "markdown",
   "metadata": {},
   "source": [
    "## Removing Nuclear Explosions\n",
    "\n",
    "We are only going to be working with Earthquakes and do not want to include nuclear explosion."
   ]
  },
  {
   "cell_type": "code",
   "execution_count": 7,
   "metadata": {},
   "outputs": [
    {
     "data": {
      "text/plain": [
       "array(['earthquake', 'nuclear explosion'], dtype=object)"
      ]
     },
     "execution_count": 7,
     "metadata": {},
     "output_type": "execute_result"
    }
   ],
   "source": [
    "num_unique_type = df.type.unique()\n",
    "num_unique_type"
   ]
  },
  {
   "cell_type": "code",
   "execution_count": 8,
   "metadata": {},
   "outputs": [
    {
     "data": {
      "text/plain": [
       "array(['earthquake'], dtype=object)"
      ]
     },
     "execution_count": 8,
     "metadata": {},
     "output_type": "execute_result"
    }
   ],
   "source": [
    "df = df[df['type'] != 'nuclear explosion']\n",
    "unique_fixed = df.type.unique()\n",
    "unique_fixed"
   ]
  },
  {
   "attachments": {},
   "cell_type": "markdown",
   "metadata": {},
   "source": [
    "## Viewing Earthquakes by Magnitude / Depths\n",
    "\n",
    "Taking a first look at the different earthquake magnitudes and depths\n"
   ]
  },
  {
   "cell_type": "code",
   "execution_count": 9,
   "metadata": {},
   "outputs": [
    {
     "data": {
      "image/png": "[encoded data removed]",
      "text/plain": [
       "<Figure size 432x288 with 1 Axes>"
      ]
     },
     "metadata": {
      "needs_background": "light"
     },
     "output_type": "display_data"
    }
   ],
   "source": [
    "plt.style.use('seaborn')\n",
    "fig, ax = plt.subplots()\n",
    "ax.plot(df['mag'], color='red')\n",
    "\n",
    "ax.set_title(\"Earthquakes In Japan by Magnitude\")\n",
    "ax.set_xlabel('', fontsize=16)\n",
    "ax.set_ylabel(\"Magnitude\", fontsize=16)\n",
    "ax.tick_params(labelsize=16)\n",
    "\n",
    "plt.show()"
   ]
  },
  {
   "cell_type": "code",
   "execution_count": 10,
   "metadata": {},
   "outputs": [
    {
     "data": {
      "image/png": "[encoded data removed]",
      "text/plain": [
       "<Figure size 576x396 with 1 Axes>"
      ]
     },
     "metadata": {},
     "output_type": "display_data"
    }
   ],
   "source": [
    "plt.style.use('seaborn')\n",
    "fig, ax = plt.subplots()\n",
    "ax.plot(df['depth'], color='blue')\n",
    "\n",
    "ax.set_title(\"Depth of Occurance\")\n",
    "ax.set_xlabel('', fontsize=16)\n",
    "ax.set_ylabel(\"Depth\", fontsize=16)\n",
    "ax.tick_params(labelsize=16)"
   ]
  },
  {
   "attachments": {},
   "cell_type": "markdown",
   "metadata": {},
   "source": [
    "## Standardizing Depth and Magnitude\n",
    "\n",
    "Standardizing the depth and magnitude to prepare them to be plotted to see if there is any sort of correlation\n"
   ]
  },
  {
   "cell_type": "code",
   "execution_count": 11,
   "metadata": {},
   "outputs": [],
   "source": [
    "mag = df['mag']\n",
    "depth = df['depth']\n",
    "\n",
    "scaler = StandardScaler()\n",
    "#Standardizing the magnitude\n",
    "reshaped_mag = np.array(mag).reshape(-1,1)\n",
    "mag_scaler = scaler.fit_transform(reshaped_mag)\n",
    "\n",
    "#Standardizing the depth\n",
    "reshaped_depth = np.array(depth).reshape(-1, 1)\n",
    "depth_scaler = scaler.fit_transform(reshaped_depth)\n",
    "\n"
   ]
  },
  {
   "attachments": {},
   "cell_type": "markdown",
   "metadata": {},
   "source": [
    "## Graphing the standardized data\n",
    "\n",
    "After standardizing the data I want to see if there is any corilation between the two *mag* and *depth*"
   ]
  },
  {
   "cell_type": "code",
   "execution_count": 12,
   "metadata": {},
   "outputs": [
    {
     "data": {
      "image/png": "[encoded data removed]",
      "text/plain": [
       "<Figure size 576x396 with 1 Axes>"
      ]
     },
     "metadata": {},
     "output_type": "display_data"
    }
   ],
   "source": [
    "#Graphing the standardized data\n",
    "plt.scatter(depth_scaler, mag_scaler, color='green')\n",
    "plt.title(\"Mag vs Depth\")\n",
    "plt.xlabel('Magnitude Standardized')\n",
    "plt.ylabel('Depth Standardized')\n",
    "plt.show()\n"
   ]
  }
 ],
 "metadata": {
  "kernelspec": {
   "display_name": "Python 3",
   "language": "python",
   "name": "python3"
  },
  "language_info": {
   "codemirror_mode": {
    "name": "ipython",
    "version": 3
   },
   "file_extension": ".py",
   "mimetype": "text/x-python",
   "name": "python",
   "nbconvert_exporter": "python",
   "pygments_lexer": "ipython3",
   "version": "3.9.13"
  },
  "orig_nbformat": 4
 },
 "nbformat": 4,
 "nbformat_minor": 2
}
